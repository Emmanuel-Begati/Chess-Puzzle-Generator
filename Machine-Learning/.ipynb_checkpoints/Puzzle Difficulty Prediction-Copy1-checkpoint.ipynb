{
 "cells": [
  {
   "cell_type": "code",
   "execution_count": 1,
   "id": "86c7f0c1",
   "metadata": {},
   "outputs": [],
   "source": [
    "#Importation cell\n",
    "import pandas as pd\n",
    "import numpy as np"
   ]
  },
  {
   "cell_type": "code",
   "execution_count": 2,
   "id": "5db3f206",
   "metadata": {},
   "outputs": [
    {
     "data": {
      "text/html": [
       "<div>\n",
       "<style scoped>\n",
       "    .dataframe tbody tr th:only-of-type {\n",
       "        vertical-align: middle;\n",
       "    }\n",
       "\n",
       "    .dataframe tbody tr th {\n",
       "        vertical-align: top;\n",
       "    }\n",
       "\n",
       "    .dataframe thead th {\n",
       "        text-align: right;\n",
       "    }\n",
       "</style>\n",
       "<table border=\"1\" class=\"dataframe\">\n",
       "  <thead>\n",
       "    <tr style=\"text-align: right;\">\n",
       "      <th></th>\n",
       "      <th>PuzzleId</th>\n",
       "      <th>FEN</th>\n",
       "      <th>Moves</th>\n",
       "      <th>Rating</th>\n",
       "      <th>RatingDeviation</th>\n",
       "      <th>Popularity</th>\n",
       "      <th>NbPlays</th>\n",
       "      <th>Themes</th>\n",
       "      <th>GameUrl</th>\n",
       "      <th>OpeningTags</th>\n",
       "    </tr>\n",
       "  </thead>\n",
       "  <tbody>\n",
       "    <tr>\n",
       "      <th>0</th>\n",
       "      <td>00008</td>\n",
       "      <td>r6k/pp2r2p/4Rp1Q/3p4/8/1N1P2R1/PqP2bPP/7K b - ...</td>\n",
       "      <td>f2g3 e6e7 b2b1 b3c1 b1c1 h6c1</td>\n",
       "      <td>1940</td>\n",
       "      <td>75</td>\n",
       "      <td>94</td>\n",
       "      <td>6608</td>\n",
       "      <td>crushing hangingPiece long middlegame</td>\n",
       "      <td>https://lichess.org/787zsVup/black#48</td>\n",
       "      <td>NaN</td>\n",
       "    </tr>\n",
       "    <tr>\n",
       "      <th>1</th>\n",
       "      <td>0000D</td>\n",
       "      <td>5rk1/1p3ppp/pq3b2/8/8/1P1Q1N2/P4PPP/3R2K1 w - ...</td>\n",
       "      <td>d3d6 f8d8 d6d8 f6d8</td>\n",
       "      <td>1447</td>\n",
       "      <td>73</td>\n",
       "      <td>96</td>\n",
       "      <td>28501</td>\n",
       "      <td>advantage endgame short</td>\n",
       "      <td>https://lichess.org/F8M8OS71#53</td>\n",
       "      <td>NaN</td>\n",
       "    </tr>\n",
       "    <tr>\n",
       "      <th>2</th>\n",
       "      <td>0008Q</td>\n",
       "      <td>8/4R3/1p2P3/p4r2/P6p/1P3Pk1/4K3/8 w - - 1 64</td>\n",
       "      <td>e7f7 f5e5 e2f1 e5e6</td>\n",
       "      <td>1311</td>\n",
       "      <td>75</td>\n",
       "      <td>90</td>\n",
       "      <td>605</td>\n",
       "      <td>advantage endgame rookEndgame short</td>\n",
       "      <td>https://lichess.org/MQSyb3KW#127</td>\n",
       "      <td>NaN</td>\n",
       "    </tr>\n",
       "    <tr>\n",
       "      <th>3</th>\n",
       "      <td>0009B</td>\n",
       "      <td>r2qr1k1/b1p2ppp/pp4n1/P1P1p3/4P1n1/B2P2Pb/3NBP...</td>\n",
       "      <td>b6c5 e2g4 h3g4 d1g4</td>\n",
       "      <td>1099</td>\n",
       "      <td>74</td>\n",
       "      <td>87</td>\n",
       "      <td>571</td>\n",
       "      <td>advantage middlegame short</td>\n",
       "      <td>https://lichess.org/4MWQCxQ6/black#32</td>\n",
       "      <td>Kings_Pawn_Game Kings_Pawn_Game_Leonardis_Vari...</td>\n",
       "    </tr>\n",
       "    <tr>\n",
       "      <th>4</th>\n",
       "      <td>000VW</td>\n",
       "      <td>r4r2/1p3pkp/p5p1/3R1N1Q/3P4/8/P1q2P2/3R2K1 b -...</td>\n",
       "      <td>g6f5 d5c5 c2e4 h5g5 g7h8 g5f6</td>\n",
       "      <td>2724</td>\n",
       "      <td>90</td>\n",
       "      <td>92</td>\n",
       "      <td>63</td>\n",
       "      <td>crushing endgame long</td>\n",
       "      <td>https://lichess.org/e9AY2m5j/black#50</td>\n",
       "      <td>NaN</td>\n",
       "    </tr>\n",
       "  </tbody>\n",
       "</table>\n",
       "</div>"
      ],
      "text/plain": [
       "  PuzzleId                                                FEN  \\\n",
       "0    00008  r6k/pp2r2p/4Rp1Q/3p4/8/1N1P2R1/PqP2bPP/7K b - ...   \n",
       "1    0000D  5rk1/1p3ppp/pq3b2/8/8/1P1Q1N2/P4PPP/3R2K1 w - ...   \n",
       "2    0008Q       8/4R3/1p2P3/p4r2/P6p/1P3Pk1/4K3/8 w - - 1 64   \n",
       "3    0009B  r2qr1k1/b1p2ppp/pp4n1/P1P1p3/4P1n1/B2P2Pb/3NBP...   \n",
       "4    000VW  r4r2/1p3pkp/p5p1/3R1N1Q/3P4/8/P1q2P2/3R2K1 b -...   \n",
       "\n",
       "                           Moves  Rating  RatingDeviation  Popularity  \\\n",
       "0  f2g3 e6e7 b2b1 b3c1 b1c1 h6c1    1940               75          94   \n",
       "1            d3d6 f8d8 d6d8 f6d8    1447               73          96   \n",
       "2            e7f7 f5e5 e2f1 e5e6    1311               75          90   \n",
       "3            b6c5 e2g4 h3g4 d1g4    1099               74          87   \n",
       "4  g6f5 d5c5 c2e4 h5g5 g7h8 g5f6    2724               90          92   \n",
       "\n",
       "   NbPlays                                 Themes  \\\n",
       "0     6608  crushing hangingPiece long middlegame   \n",
       "1    28501                advantage endgame short   \n",
       "2      605    advantage endgame rookEndgame short   \n",
       "3      571             advantage middlegame short   \n",
       "4       63                  crushing endgame long   \n",
       "\n",
       "                                 GameUrl  \\\n",
       "0  https://lichess.org/787zsVup/black#48   \n",
       "1        https://lichess.org/F8M8OS71#53   \n",
       "2       https://lichess.org/MQSyb3KW#127   \n",
       "3  https://lichess.org/4MWQCxQ6/black#32   \n",
       "4  https://lichess.org/e9AY2m5j/black#50   \n",
       "\n",
       "                                         OpeningTags  \n",
       "0                                                NaN  \n",
       "1                                                NaN  \n",
       "2                                                NaN  \n",
       "3  Kings_Pawn_Game Kings_Pawn_Game_Leonardis_Vari...  \n",
       "4                                                NaN  "
      ]
     },
     "execution_count": 2,
     "metadata": {},
     "output_type": "execute_result"
    }
   ],
   "source": [
    "data = './lichess_puzzle_transformed.csv.zst'\n",
    "\n",
    "df = pd.read_csv(data, compression='zstd')\n",
    "df.head()\n"
   ]
  },
  {
   "cell_type": "markdown",
   "id": "8bf59736",
   "metadata": {},
   "source": [
    "Our data looks obviously raw, lol.There will be a lot of preprocessing steps that I will take here!\n"
   ]
  },
  {
   "cell_type": "code",
   "execution_count": 3,
   "id": "ed8e9787",
   "metadata": {},
   "outputs": [],
   "source": [
    "#Dropping the cells that are not needed\n",
    "new_df = df.drop(['OpeningTags', 'PuzzleId'], axis=1)"
   ]
  },
  {
   "cell_type": "code",
   "execution_count": 4,
   "id": "39d4811a",
   "metadata": {
    "scrolled": true
   },
   "outputs": [
    {
     "data": {
      "text/html": [
       "<div>\n",
       "<style scoped>\n",
       "    .dataframe tbody tr th:only-of-type {\n",
       "        vertical-align: middle;\n",
       "    }\n",
       "\n",
       "    .dataframe tbody tr th {\n",
       "        vertical-align: top;\n",
       "    }\n",
       "\n",
       "    .dataframe thead th {\n",
       "        text-align: right;\n",
       "    }\n",
       "</style>\n",
       "<table border=\"1\" class=\"dataframe\">\n",
       "  <thead>\n",
       "    <tr style=\"text-align: right;\">\n",
       "      <th></th>\n",
       "      <th>FEN</th>\n",
       "      <th>Moves</th>\n",
       "      <th>Rating</th>\n",
       "      <th>RatingDeviation</th>\n",
       "      <th>Popularity</th>\n",
       "      <th>NbPlays</th>\n",
       "      <th>Themes</th>\n",
       "      <th>GameUrl</th>\n",
       "    </tr>\n",
       "  </thead>\n",
       "  <tbody>\n",
       "    <tr>\n",
       "      <th>0</th>\n",
       "      <td>r6k/pp2r2p/4Rp1Q/3p4/8/1N1P2R1/PqP2bPP/7K b - ...</td>\n",
       "      <td>f2g3 e6e7 b2b1 b3c1 b1c1 h6c1</td>\n",
       "      <td>1940</td>\n",
       "      <td>75</td>\n",
       "      <td>94</td>\n",
       "      <td>6608</td>\n",
       "      <td>crushing hangingPiece long middlegame</td>\n",
       "      <td>https://lichess.org/787zsVup/black#48</td>\n",
       "    </tr>\n",
       "    <tr>\n",
       "      <th>1</th>\n",
       "      <td>5rk1/1p3ppp/pq3b2/8/8/1P1Q1N2/P4PPP/3R2K1 w - ...</td>\n",
       "      <td>d3d6 f8d8 d6d8 f6d8</td>\n",
       "      <td>1447</td>\n",
       "      <td>73</td>\n",
       "      <td>96</td>\n",
       "      <td>28501</td>\n",
       "      <td>advantage endgame short</td>\n",
       "      <td>https://lichess.org/F8M8OS71#53</td>\n",
       "    </tr>\n",
       "    <tr>\n",
       "      <th>2</th>\n",
       "      <td>8/4R3/1p2P3/p4r2/P6p/1P3Pk1/4K3/8 w - - 1 64</td>\n",
       "      <td>e7f7 f5e5 e2f1 e5e6</td>\n",
       "      <td>1311</td>\n",
       "      <td>75</td>\n",
       "      <td>90</td>\n",
       "      <td>605</td>\n",
       "      <td>advantage endgame rookEndgame short</td>\n",
       "      <td>https://lichess.org/MQSyb3KW#127</td>\n",
       "    </tr>\n",
       "    <tr>\n",
       "      <th>3</th>\n",
       "      <td>r2qr1k1/b1p2ppp/pp4n1/P1P1p3/4P1n1/B2P2Pb/3NBP...</td>\n",
       "      <td>b6c5 e2g4 h3g4 d1g4</td>\n",
       "      <td>1099</td>\n",
       "      <td>74</td>\n",
       "      <td>87</td>\n",
       "      <td>571</td>\n",
       "      <td>advantage middlegame short</td>\n",
       "      <td>https://lichess.org/4MWQCxQ6/black#32</td>\n",
       "    </tr>\n",
       "    <tr>\n",
       "      <th>4</th>\n",
       "      <td>r4r2/1p3pkp/p5p1/3R1N1Q/3P4/8/P1q2P2/3R2K1 b -...</td>\n",
       "      <td>g6f5 d5c5 c2e4 h5g5 g7h8 g5f6</td>\n",
       "      <td>2724</td>\n",
       "      <td>90</td>\n",
       "      <td>92</td>\n",
       "      <td>63</td>\n",
       "      <td>crushing endgame long</td>\n",
       "      <td>https://lichess.org/e9AY2m5j/black#50</td>\n",
       "    </tr>\n",
       "  </tbody>\n",
       "</table>\n",
       "</div>"
      ],
      "text/plain": [
       "                                                 FEN  \\\n",
       "0  r6k/pp2r2p/4Rp1Q/3p4/8/1N1P2R1/PqP2bPP/7K b - ...   \n",
       "1  5rk1/1p3ppp/pq3b2/8/8/1P1Q1N2/P4PPP/3R2K1 w - ...   \n",
       "2       8/4R3/1p2P3/p4r2/P6p/1P3Pk1/4K3/8 w - - 1 64   \n",
       "3  r2qr1k1/b1p2ppp/pp4n1/P1P1p3/4P1n1/B2P2Pb/3NBP...   \n",
       "4  r4r2/1p3pkp/p5p1/3R1N1Q/3P4/8/P1q2P2/3R2K1 b -...   \n",
       "\n",
       "                           Moves  Rating  RatingDeviation  Popularity  \\\n",
       "0  f2g3 e6e7 b2b1 b3c1 b1c1 h6c1    1940               75          94   \n",
       "1            d3d6 f8d8 d6d8 f6d8    1447               73          96   \n",
       "2            e7f7 f5e5 e2f1 e5e6    1311               75          90   \n",
       "3            b6c5 e2g4 h3g4 d1g4    1099               74          87   \n",
       "4  g6f5 d5c5 c2e4 h5g5 g7h8 g5f6    2724               90          92   \n",
       "\n",
       "   NbPlays                                 Themes  \\\n",
       "0     6608  crushing hangingPiece long middlegame   \n",
       "1    28501                advantage endgame short   \n",
       "2      605    advantage endgame rookEndgame short   \n",
       "3      571             advantage middlegame short   \n",
       "4       63                  crushing endgame long   \n",
       "\n",
       "                                 GameUrl  \n",
       "0  https://lichess.org/787zsVup/black#48  \n",
       "1        https://lichess.org/F8M8OS71#53  \n",
       "2       https://lichess.org/MQSyb3KW#127  \n",
       "3  https://lichess.org/4MWQCxQ6/black#32  \n",
       "4  https://lichess.org/e9AY2m5j/black#50  "
      ]
     },
     "execution_count": 4,
     "metadata": {},
     "output_type": "execute_result"
    }
   ],
   "source": [
    "new_df.head()"
   ]
  },
  {
   "cell_type": "code",
   "execution_count": 5,
   "id": "b0379732",
   "metadata": {},
   "outputs": [
    {
     "name": "stdout",
     "output_type": "stream",
     "text": [
      "Requirement already satisfied: python-chess in c:\\users\\begat\\anaconda3\\lib\\site-packages (1.999)\n",
      "Requirement already satisfied: chess<2,>=1 in c:\\users\\begat\\anaconda3\\lib\\site-packages (from python-chess) (1.11.1)\n"
     ]
    }
   ],
   "source": [
    "!pip install python-chess #if you don't have it already\n",
    "import chess \n",
    "import requests"
   ]
  },
  {
   "cell_type": "code",
   "execution_count": null,
   "id": "9bdd3a18",
   "metadata": {},
   "outputs": [],
   "source": [
    "\n"
   ]
  },
  {
   "cell_type": "code",
   "execution_count": 6,
   "id": "a63806bd",
   "metadata": {},
   "outputs": [
    {
     "name": "stderr",
     "output_type": "stream",
     "text": [
      "100%|██████████| 4211138/4211138 [10:19<00:00, 6799.06it/s]\n"
     ]
    },
    {
     "name": "stdout",
     "output_type": "stream",
     "text": [
      "                                                 FEN  \\\n",
      "0  r6k/pp2r2p/4Rp1Q/3p4/8/1N1P2R1/PqP2bPP/7K b - ...   \n",
      "1  5rk1/1p3ppp/pq3b2/8/8/1P1Q1N2/P4PPP/3R2K1 w - ...   \n",
      "2       8/4R3/1p2P3/p4r2/P6p/1P3Pk1/4K3/8 w - - 1 64   \n",
      "3  r2qr1k1/b1p2ppp/pp4n1/P1P1p3/4P1n1/B2P2Pb/3NBP...   \n",
      "4  r4r2/1p3pkp/p5p1/3R1N1Q/3P4/8/P1q2P2/3R2K1 b -...   \n",
      "\n",
      "                           Moves  \\\n",
      "0  f2g3 e6e7 b2b1 b3c1 b1c1 h6c1   \n",
      "1            d3d6 f8d8 d6d8 f6d8   \n",
      "2            e7f7 f5e5 e2f1 e5e6   \n",
      "3            b6c5 e2g4 h3g4 d1g4   \n",
      "4  g6f5 d5c5 c2e4 h5g5 g7h8 g5f6   \n",
      "\n",
      "                                FEN_After_First_Move  \n",
      "0  r6k/pp2r2p/4Rp1Q/3p4/8/1N1P2b1/PqP3PP/7K w - -...  \n",
      "1  5rk1/1p3ppp/pq1Q1b2/8/8/1P3N2/P4PPP/3R2K1 b - ...  \n",
      "2       8/5R2/1p2P3/p4r2/P6p/1P3Pk1/4K3/8 b - - 2 64  \n",
      "3  r2qr1k1/b1p2ppp/p5n1/P1p1p3/4P1n1/B2P2Pb/3NBP1...  \n",
      "4  r4r2/1p3pkp/p7/3R1p1Q/3P4/8/P1q2P2/3R2K1 w - -...  \n"
     ]
    }
   ],
   "source": [
    "import chess\n",
    "from tqdm import tqdm\n",
    "\n",
    "# Function to get FEN after the first move in the 'Moves' column\n",
    "def get_fen_after_first_move(fen, moves_str):\n",
    "    board = chess.Board(fen)  # Create board from FEN\n",
    "    moves = moves_str.split()  # Split moves into list\n",
    "    if moves:\n",
    "        move = moves[0]  # Get the first move\n",
    "        try:\n",
    "            board.push_san(move)  # Play the move on the board\n",
    "            return board.fen()  # Return the new FEN after the move\n",
    "        except ValueError:\n",
    "            print(f\"Invalid move: {move} for FEN: {fen}\")\n",
    "            return fen  # Return original FEN if move is invalid\n",
    "    return fen  # Return original FEN if no moves are found\n",
    "\n",
    "# Apply function to the DataFrame with progress tracking using tqdm\n",
    "tqdm.pandas()  # Enable progress tracking for pandas\n",
    "\n",
    "# Use progress_apply to track the progress of the operation\n",
    "new_df['FEN_After_First_Move'] = new_df.progress_apply(lambda row: get_fen_after_first_move(row['FEN'], row['Moves']), axis=1)\n",
    "\n",
    "# Print the first few rows to verify\n",
    "print(new_df[['FEN', 'Moves', 'FEN_After_First_Move']].head())"
   ]
  },
  {
   "cell_type": "code",
   "execution_count": null,
   "id": "62469314",
   "metadata": {},
   "outputs": [
    {
     "name": "stdout",
     "output_type": "stream",
     "text": [
      "Requirement already satisfied: stockfish in c:\\users\\begat\\anaconda3\\lib\\site-packages (3.28.0)\n"
     ]
    },
    {
     "name": "stderr",
     "output_type": "stream",
     "text": [
      "Evaluating FENs:  24%|██▍       | 1021305/4211138 [9:48:25<22:14:56, 39.83it/s]  "
     ]
    }
   ],
   "source": [
    "!pip install stockfish\n",
    "import pandas as pd\n",
    "import chess\n",
    "from stockfish import Stockfish\n",
    "from tqdm import tqdm  # Import tqdm for the progress bar\n",
    "\n",
    "# Initialize Stockfish\n",
    "stockfish_path = r\"C:\\Users\\begat\\Documents\\stockfish\\stockfish-windows-x86-64-avx2.exe\"  # Replace with your Stockfish executable path\n",
    "stockfish = Stockfish(stockfish_path)\n",
    "\n",
    "def get_evaluation(fen):\n",
    "    \"\"\"Get the evaluation of a given FEN position using Stockfish.\"\"\"\n",
    "#     stockfish.set_depth(20)  # Adjust to your preference\n",
    "    stockfish.set_fen_position(fen)\n",
    "    evaluation = stockfish.get_evaluation()\n",
    "    return evaluation['value'] if evaluation else None\n",
    "\n",
    "# Load your DataFrame (Assuming you already have it loaded as `new_df`)\n",
    "# new_df = pd.read_csv('path/to/your/data.csv')\n",
    "\n",
    "# Initialize a list to store evaluations\n",
    "evaluations = []\n",
    "\n",
    "# Use tqdm to track progress while iterating over DataFrame rows\n",
    "for index, row in tqdm(new_df.iterrows(), total=new_df.shape[0], desc=\"Evaluating FENs\"):\n",
    "    fen = row['FEN_After_First_Move']  # Adjust to match your DataFrame column name\n",
    "    try:\n",
    "        evaluation = get_evaluation(fen)\n",
    "        evaluations.append(evaluation)\n",
    "    except Exception as e:\n",
    "        print(f\"Error evaluating FEN '{fen}': {e}\")\n",
    "        evaluations.append(None)  # Append None if there's an error\n",
    "\n",
    "# Add evaluations to the DataFrame\n",
    "new_df['Evaluation'] = evaluations\n",
    "\n",
    "# Print the updated DataFrame to verify\n",
    "print(new_df[['FEN_After_First_Move', 'Evaluation']].head())\n"
   ]
  },
  {
   "cell_type": "code",
   "execution_count": null,
   "id": "4b2f7872",
   "metadata": {},
   "outputs": [],
   "source": [
    "new_df.head(15)"
   ]
  },
  {
   "cell_type": "code",
   "execution_count": null,
   "id": "35d27ee5",
   "metadata": {},
   "outputs": [],
   "source": [
    "import pandas as pd\n",
    "import chess\n",
    "from tqdm import tqdm  # Import tqdm for the progress bar\n",
    "\n",
    "def extract_fen_features(fen):\n",
    "    board = chess.Board(fen)\n",
    "    # Define material values for uppercase (white) and lowercase (black) pieces\n",
    "    material_value = {'P': 1, 'N': 3, 'B': 3, 'R': 5, 'Q': 9, 'K': 0,\n",
    "                      'p': 1, 'n': 3, 'b': 3, 'r': 5, 'q': 9, 'k': 0}\n",
    "    \n",
    "    # Calculate material values for white pieces\n",
    "    white_material = sum(material_value[p.symbol()] for p in board.piece_map().values() if p.color == chess.WHITE)\n",
    "    # Calculate material values for black pieces\n",
    "    black_material = sum(material_value[p.symbol()] for p in board.piece_map().values() if p.color == chess.BLACK)\n",
    "\n",
    "    # Count pieces for white and black\n",
    "    white_pieces = len([p for p in board.piece_map().values() if p.color == chess.WHITE])\n",
    "    black_pieces = len([p for p in board.piece_map().values() if p.color == chess.BLACK])\n",
    "\n",
    "    return white_material, black_material, white_pieces, black_pieces\n",
    "\n",
    "# Assuming you already have a DataFrame called new_df\n",
    "# Example: new_df = pd.read_csv('path/to/your/existing_data.csv')\n",
    "\n",
    "# Initialize lists to store results\n",
    "white_material_list = []\n",
    "black_material_list = []\n",
    "white_pieces_list = []\n",
    "black_pieces_list = []\n",
    "\n",
    "# Use tqdm to track progress while iterating over DataFrame rows\n",
    "for index, row in tqdm(new_df.iterrows(), total=new_df.shape[0], desc=\"Processing FENs\"):\n",
    "    fen = row['FEN_After_First_Move']  # Make sure this matches your DataFrame's column name for FEN strings\n",
    "    try:\n",
    "        white_material, black_material, white_pieces, black_pieces = extract_fen_features(fen)\n",
    "        # Append results to the respective lists\n",
    "        white_material_list.append(white_material)\n",
    "        black_material_list.append(black_material)\n",
    "        white_pieces_list.append(white_pieces)\n",
    "        black_pieces_list.append(black_pieces)\n",
    "    except Exception as e:\n",
    "        print(f\"Error processing FEN '{fen}': {e}\")\n",
    "        # Append None or some placeholder values if there's an error\n",
    "        white_material_list.append(None)\n",
    "        black_material_list.append(None)\n",
    "        white_pieces_list.append(None)\n",
    "        black_pieces_list.append(None)\n",
    "\n",
    "# Add results to new_df as new columns\n",
    "new_df['white_material'] = white_material_list\n",
    "new_df['black_material'] = black_material_list\n",
    "new_df['white_pieces'] = white_pieces_list\n",
    "new_df['black_pieces'] = black_pieces_list\n",
    "\n",
    "# Print the updated DataFrame to verify the results\n",
    "print(new_df.head())\n",
    "new_df.to_csv('updated_data.csv', index=False)"
   ]
  },
  {
   "cell_type": "code",
   "execution_count": null,
   "id": "3999c0ff",
   "metadata": {},
   "outputs": [],
   "source": [
    "new_df.head()"
   ]
  },
  {
   "cell_type": "code",
   "execution_count": null,
   "id": "690c5743",
   "metadata": {},
   "outputs": [],
   "source": [
    "new_df['sum_of_material'] = new_df['white_material'] + new_df['black_material']\n",
    "new_df['sum_of_pieces'] = new_df['white_pieces'] + new_df['black_pieces']"
   ]
  },
  {
   "cell_type": "code",
   "execution_count": null,
   "id": "8978bce2",
   "metadata": {},
   "outputs": [],
   "source": [
    "new_df.head()"
   ]
  },
  {
   "cell_type": "code",
   "execution_count": null,
   "id": "83ca9b7b",
   "metadata": {},
   "outputs": [],
   "source": [
    "\n",
    "new_df['number_of_moves'] = new_df['Moves'].apply(lambda x: len(x.split(' ')))\n",
    "\n",
    "# Display the updated DataFrame to see the 'number_of_moves' column\n",
    "new_df.head()"
   ]
  },
  {
   "cell_type": "code",
   "execution_count": null,
   "id": "78d92104",
   "metadata": {},
   "outputs": [],
   "source": [
    "new_df['Themes'] = new_df['Themes'].str.strip().str.lower()  # Remove spaces and convert to lowercase\n",
    "\n",
    "# Replace commas with spaces for consistent splitting\n",
    "new_df['Themes'] = new_df['Themes'].str.replace(',', ' ')\n",
    "\n",
    "# Step 2: Split the themes into lists\n",
    "new_df['Themes'] = new_df['Themes'].str.split()\n",
    "\n",
    "# Step 3: Flatten the list of all themes and get unique values\n",
    "# This will give us the unique themes\n",
    "all_themes = new_df['Themes'].explode().unique()\n",
    "unique_themes = sorted(set(all_themes))\n",
    "\n",
    "# Debugging: Print the unique themes\n",
    "print(\"Unique themes:\", unique_themes)\n",
    "print(\"Number of unique themes:\", len(unique_themes))\n",
    "\n",
    "# Step 4: Perform One-Hot Encoding\n",
    "# Create a one-hot encoded DataFrame\n",
    "for theme in unique_themes:\n",
    "    new_df[theme] = new_df['Themes'].apply(lambda x: 1 if theme in x else 0)\n",
    "\n",
    "# Step 5: Drop the original Themes column if necessary\n",
    "new_df = new_df.drop(columns=['Themes'])\n",
    "\n",
    "# Final check\n",
    "print(\"Number of columns after one-hot encoding:\", new_df.shape[1])\n",
    "print(new_df.head())"
   ]
  },
  {
   "cell_type": "code",
   "execution_count": null,
   "id": "a82f37ff",
   "metadata": {},
   "outputs": [],
   "source": [
    "print(len(unique_themes))"
   ]
  },
  {
   "cell_type": "code",
   "execution_count": null,
   "id": "3023b849",
   "metadata": {},
   "outputs": [],
   "source": [
    "print(new_df.columns)"
   ]
  },
  {
   "cell_type": "code",
   "execution_count": null,
   "id": "06d5c831",
   "metadata": {},
   "outputs": [],
   "source": [
    "#I will now drop the columns that are not needed\n",
    "df_feature_encoded = new_df.drop(['FEN', 'Moves', 'GameUrl', 'FEN_After_First_Move'], axis=1)\n",
    "df_feature_encoded.head()"
   ]
  },
  {
   "cell_type": "code",
   "execution_count": null,
   "id": "5cb730ce",
   "metadata": {},
   "outputs": [],
   "source": [
    "df_feature_encoded.describe()"
   ]
  },
  {
   "cell_type": "code",
   "execution_count": null,
   "id": "b5743888",
   "metadata": {},
   "outputs": [],
   "source": [
    "import matplotlib.pyplot as plt\n",
    "import seaborn as sns\n",
    "# EDA: Visualize distribution of the Rating\n",
    "plt.figure(figsize=(10, 6))\n",
    "sns.histplot(df_feature_encoded['Rating'], bins=30, kde=True)\n",
    "plt.title('Distribution of Ratings')\n",
    "plt.xlabel('Rating')\n",
    "plt.ylabel('Frequency')\n",
    "plt.show()"
   ]
  },
  {
   "cell_type": "code",
   "execution_count": null,
   "id": "704ebc21",
   "metadata": {},
   "outputs": [],
   "source": [
    "# Assuming df_feature_encoded is your DataFrame\n",
    "# Compute the correlation matrix\n",
    "columns_of_interest = ['Rating', 'Popularity', 'Evaluation', 'black_material', 'black_pieces', 'white_material', 'white_pieces','RatingDeviation']\n",
    "df_subset = df_feature_encoded[columns_of_interest]\n",
    "corr = df_subset.corr()\n",
    "\n",
    "# Set up the matplotlib figure\n",
    "plt.figure(figsize=(12, 8))\n",
    "\n",
    "# Draw the heatmap\n",
    "sns.heatmap(corr, annot=True, fmt=\".2f\", cmap='coolwarm', square=True, cbar=True)\n",
    "\n",
    "# Set title\n",
    "plt.title('Heatmap of Feature Correlations')\n",
    "\n",
    "# Show the plot\n",
    "plt.show()"
   ]
  },
  {
   "cell_type": "code",
   "execution_count": null,
   "id": "4aa36a16",
   "metadata": {},
   "outputs": [],
   "source": [
    "# Create a pair plot\n",
    "df_subset = df_feature_encoded[columns_of_interest]\n",
    "sns.pairplot(df_subset, diag_kind='kde')  # diag_kind='kde' will show density plots on the diagonal\n",
    "plt.suptitle('Pair Plot of Features', y=1.02)\n",
    "plt.show()"
   ]
  },
  {
   "cell_type": "code",
   "execution_count": null,
   "id": "99086cb1",
   "metadata": {},
   "outputs": [],
   "source": [
    "# Prepare features and target\n",
    "X = df_feature_encoded.drop('Rating', axis=1)\n",
    "y = df_feature_encoded['Rating']"
   ]
  },
  {
   "cell_type": "code",
   "execution_count": null,
   "id": "9e9ddff3",
   "metadata": {},
   "outputs": [],
   "source": [
    "from sklearn.model_selection import train_test_split\n",
    "from sklearn.preprocessing import StandardScaler, PolynomialFeatures\n",
    "\n",
    "\n",
    "X_train_val, X_test, y_train_val, y_test = train_test_split(X, y, test_size=0.2, random_state=42)\n",
    "\n",
    "X_train, X_val, y_train, y_val = train_test_split(X_train_val, y_train_val, test_size=0.25, random_state=42)  # 0.25 x 0.8 = 0.2 of original data\n"
   ]
  },
  {
   "cell_type": "code",
   "execution_count": null,
   "id": "078955ff",
   "metadata": {},
   "outputs": [],
   "source": [
    "# Scale features\n",
    "scaler = StandardScaler()\n",
    "X_train_scaled = scaler.fit_transform(X_train)\n",
    "X_val_scaled = scaler.transform(X_val)\n",
    "X_test_scaled = scaler.transform(X_test)\n"
   ]
  },
  {
   "cell_type": "code",
   "execution_count": null,
   "id": "f7a7f8ae",
   "metadata": {},
   "outputs": [],
   "source": [
    "#Generate polynomial features\n",
    "poly = PolynomialFeatures(degree=2, include_bias=False)\n",
    "X_train_poly = poly.fit_transform(X_train_scaled)\n",
    "X_val_poly = poly.transform(X_val_scaled)\n",
    "X_test_poly = poly.transform(X_test_scaled)"
   ]
  },
  {
   "cell_type": "code",
   "execution_count": null,
   "id": "31a6ab26",
   "metadata": {},
   "outputs": [],
   "source": [
    "# The data is now ready for model training\n",
    "print(f\"Training set shape: {X_train.shape}\")\n",
    "print(f\"Validation set shape: {X_val.shape}\")\n",
    "print(f\"Test set shape: {X_test.shape}\")"
   ]
  },
  {
   "cell_type": "code",
   "execution_count": null,
   "id": "dc4746a9",
   "metadata": {
    "scrolled": true
   },
   "outputs": [],
   "source": [
    "from tensorflow.keras.callbacks import EarlyStopping, ModelCheckpoint\n",
    "from sklearn.metrics import mean_squared_error, mean_absolute_error, r2_score\n",
    "import matplotlib.pyplot as plt\n",
    "\n",
    "# Define the model\n",
    "def create_model(input_shape):\n",
    "    model = models.Sequential([\n",
    "        layers.Dense(64, activation='relu', input_shape=input_shape),\n",
    "        layers.BatchNormalization(),\n",
    "        layers.Dropout(0.3),\n",
    "        layers.Dense(32, activation='relu'),\n",
    "        layers.BatchNormalization(),\n",
    "        layers.Dropout(0.3),\n",
    "        layers.Dense(16, activation='relu'),\n",
    "        layers.BatchNormalization(),\n",
    "        layers.Dense(1)  # Output layer for regression\n",
    "    ])\n",
    "    return model\n",
    "\n",
    "# Create and compile the model\n",
    "model = create_model((X_train.shape[1],))\n",
    "model.compile(optimizer='adam', loss='mean_squared_error', metrics=['mae'])\n",
    "\n",
    "# Define callbacks\n",
    "early_stopping = EarlyStopping(monitor='val_loss', patience=10, restore_best_weights=True)\n",
    "model_checkpoint = ModelCheckpoint('best_model.keras', save_best_only=True, monitor='val_loss')"
   ]
  },
  {
   "cell_type": "code",
   "execution_count": null,
   "id": "81a586f9",
   "metadata": {},
   "outputs": [],
   "source": [
    "\n",
    "# Train the model\n",
    "history = model.fit(\n",
    "    X_train, y_train,\n",
    "    validation_data=(X_val, y_val),\n",
    "    epochs=100,\n",
    "    batch_size=32,\n",
    "    callbacks=[early_stopping, model_checkpoint],\n",
    "    verbose=1\n",
    ")\n",
    "\n",
    "# Evaluate the model\n",
    "y_pred = model.predict(X_test)\n",
    "mse = mean_squared_error(y_test, y_pred)\n",
    "mae = mean_absolute_error(y_test, y_pred)\n",
    "r2 = r2_score(y_test, y_pred)\n",
    "\n",
    "print(f\"Mean Squared Error: {mse}\")\n",
    "print(f\"Mean Absolute Error: {mae}\")\n",
    "print(f\"R-squared Score: {r2}\")"
   ]
  },
  {
   "cell_type": "code",
   "execution_count": null,
   "id": "6db0033c",
   "metadata": {},
   "outputs": [],
   "source": [
    "# Plot training history\n",
    "plt.figure(figsize=(12, 4))\n",
    "plt.subplot(1, 2, 1)\n",
    "plt.plot(history.history['loss'], label='Training Loss')\n",
    "plt.plot(history.history['val_loss'], label='Validation Loss')\n",
    "plt.title('Model Loss')\n",
    "plt.xlabel('Epoch')\n",
    "plt.ylabel('Loss')\n",
    "plt.legend()\n",
    "\n",
    "plt.subplot(1, 2, 2)\n",
    "plt.plot(history.history['mae'], label='Training MAE')\n",
    "plt.plot(history.history['val_mae'], label='Validation MAE')\n",
    "plt.title('Model MAE')\n",
    "plt.xlabel('Epoch')\n",
    "plt.ylabel('MAE')\n",
    "plt.legend()\n",
    "\n",
    "plt.tight_layout()\n",
    "plt.show()\n",
    "\n",
    "# Plot predictions vs actual\n",
    "plt.figure(figsize=(10, 6))\n",
    "plt.scatter(y_test, y_pred, alpha=0.5)\n",
    "plt.plot([y_test.min(), y_test.max()], [y_test.min(), y_test.max()], 'r--', lw=2)\n",
    "plt.xlabel('Actual Ratings')\n",
    "plt.ylabel('Predicted Ratings')\n",
    "plt.title('Predictions vs Actual')\n",
    "plt.tight_layout()\n",
    "plt.show()"
   ]
  },
  {
   "cell_type": "code",
   "execution_count": null,
   "id": "c4a0b64a",
   "metadata": {},
   "outputs": [],
   "source": []
  },
  {
   "cell_type": "code",
   "execution_count": null,
   "id": "8be56c21",
   "metadata": {},
   "outputs": [],
   "source": []
  },
  {
   "cell_type": "code",
   "execution_count": null,
   "id": "1324e64f",
   "metadata": {},
   "outputs": [],
   "source": []
  }
 ],
 "metadata": {
  "kernelspec": {
   "display_name": "Python 3 (ipykernel)",
   "language": "python",
   "name": "python3"
  },
  "language_info": {
   "codemirror_mode": {
    "name": "ipython",
    "version": 3
   },
   "file_extension": ".py",
   "mimetype": "text/x-python",
   "name": "python",
   "nbconvert_exporter": "python",
   "pygments_lexer": "ipython3",
   "version": "3.11.7"
  }
 },
 "nbformat": 4,
 "nbformat_minor": 5
}
